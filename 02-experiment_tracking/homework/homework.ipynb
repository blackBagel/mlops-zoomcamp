{
 "cells": [
  {
   "cell_type": "markdown",
   "metadata": {},
   "source": [
    "### Q1. Install MLflow"
   ]
  },
  {
   "cell_type": "code",
   "execution_count": 1,
   "metadata": {},
   "outputs": [
    {
     "name": "stdout",
     "output_type": "stream",
     "text": [
      "mlflow, version 2.13.0\n"
     ]
    }
   ],
   "source": [
    "!mlflow --version"
   ]
  },
  {
   "cell_type": "markdown",
   "metadata": {},
   "source": [
    "### Q2. Download and preprocess the data"
   ]
  },
  {
   "cell_type": "code",
   "execution_count": 15,
   "metadata": {},
   "outputs": [
    {
     "name": "stdout",
     "output_type": "stream",
     "text": [
      "--2024-05-23 15:23:58--  https://d37ci6vzurychx.cloudfront.net/trip-data/green_tripdata_2023-01.parquet\n",
      "Resolving d37ci6vzurychx.cloudfront.net (d37ci6vzurychx.cloudfront.net)... 54.230.209.126, 54.230.209.140, 54.230.209.72, ...\n",
      "Connecting to d37ci6vzurychx.cloudfront.net (d37ci6vzurychx.cloudfront.net)|54.230.209.126|:443... connected.\n",
      "HTTP request sent, awaiting response... 200 OK\n",
      "Length: 1427002 (1.4M) [binary/octet-stream]\n",
      "Saving to: ‘/home/mlops_zoomcamp_gcp/notebooks/data/green_tripdata_2023-01.parquet’\n",
      "\n",
      "/home/mlops_zoomcam 100%[===================>]   1.36M  --.-KB/s    in 0.07s   \n",
      "\n",
      "2024-05-23 15:23:58 (20.7 MB/s) - ‘/home/mlops_zoomcamp_gcp/notebooks/data/green_tripdata_2023-01.parquet’ saved [1427002/1427002]\n",
      "\n",
      "--2024-05-23 15:23:59--  https://d37ci6vzurychx.cloudfront.net/trip-data/green_tripdata_2023-02.parquet\n",
      "Resolving d37ci6vzurychx.cloudfront.net (d37ci6vzurychx.cloudfront.net)... 54.230.209.72, 54.230.209.126, 54.230.209.140, ...\n",
      "Connecting to d37ci6vzurychx.cloudfront.net (d37ci6vzurychx.cloudfront.net)|54.230.209.72|:443... connected.\n",
      "HTTP request sent, awaiting response... 200 OK\n",
      "Length: 1533740 (1.5M) [binary/octet-stream]\n",
      "Saving to: ‘/home/mlops_zoomcamp_gcp/notebooks/data/green_tripdata_2023-02.parquet’\n",
      "\n",
      "/home/mlops_zoomcam 100%[===================>]   1.46M  --.-KB/s    in 0.06s   \n",
      "\n",
      "2024-05-23 15:23:59 (23.2 MB/s) - ‘/home/mlops_zoomcamp_gcp/notebooks/data/green_tripdata_2023-02.parquet’ saved [1533740/1533740]\n",
      "\n",
      "--2024-05-23 15:23:59--  https://d37ci6vzurychx.cloudfront.net/trip-data/green_tripdata_2023-03.parquet\n",
      "Resolving d37ci6vzurychx.cloudfront.net (d37ci6vzurychx.cloudfront.net)... 54.230.209.200, 54.230.209.72, 54.230.209.126, ...\n",
      "Connecting to d37ci6vzurychx.cloudfront.net (d37ci6vzurychx.cloudfront.net)|54.230.209.200|:443... connected.\n",
      "HTTP request sent, awaiting response... 200 OK\n",
      "Length: 1730999 (1.7M) [binary/octet-stream]\n",
      "Saving to: ‘/home/mlops_zoomcamp_gcp/notebooks/data/green_tripdata_2023-03.parquet’\n",
      "\n",
      "/home/mlops_zoomcam 100%[===================>]   1.65M  --.-KB/s    in 0.07s   \n",
      "\n",
      "2024-05-23 15:23:59 (24.3 MB/s) - ‘/home/mlops_zoomcamp_gcp/notebooks/data/green_tripdata_2023-03.parquet’ saved [1730999/1730999]\n",
      "\n"
     ]
    }
   ],
   "source": [
    "! wget https://d37ci6vzurychx.cloudfront.net/trip-data/green_tripdata_2023-01.parquet -O /home/mlops_zoomcamp_gcp/notebooks/data/green_tripdata_2023-01.parquet\n",
    "! wget https://d37ci6vzurychx.cloudfront.net/trip-data/green_tripdata_2023-02.parquet -O /home/mlops_zoomcamp_gcp/notebooks/data/green_tripdata_2023-02.parquet\n",
    "! wget https://d37ci6vzurychx.cloudfront.net/trip-data/green_tripdata_2023-03.parquet -O /home/mlops_zoomcamp_gcp/notebooks/data/green_tripdata_2023-03.parquet"
   ]
  },
  {
   "cell_type": "code",
   "execution_count": 16,
   "metadata": {},
   "outputs": [],
   "source": [
    "! python ./preprocess_data.py --raw_data_path /home/mlops_zoomcamp_gcp/notebooks/data --dest_path ./output"
   ]
  },
  {
   "cell_type": "markdown",
   "metadata": {},
   "source": [
    "### Q3"
   ]
  },
  {
   "cell_type": "code",
   "execution_count": null,
   "metadata": {},
   "outputs": [],
   "source": [
    "! python ./train.py"
   ]
  },
  {
   "cell_type": "markdown",
   "metadata": {},
   "source": [
    "### Q4"
   ]
  },
  {
   "cell_type": "markdown",
   "metadata": {},
   "source": [
    "Running:\n",
    "\n",
    "\n",
    "mlflow server --backend-store-uri sqlite:///mlflow.db --default-artifact-root ./mlartifacts"
   ]
  },
  {
   "cell_type": "markdown",
   "metadata": {},
   "source": [
    "### Q5"
   ]
  },
  {
   "cell_type": "code",
   "execution_count": null,
   "metadata": {},
   "outputs": [],
   "source": [
    "! python ./hpo.py"
   ]
  },
  {
   "cell_type": "markdown",
   "metadata": {},
   "source": [
    "### Q6"
   ]
  },
  {
   "cell_type": "code",
   "execution_count": 38,
   "metadata": {},
   "outputs": [
    {
     "name": "stdout",
     "output_type": "stream",
     "text": [
      "2024/05/23 18:26:25 INFO mlflow.tracking.fluent: Experiment with name 'random-forest-best-models' does not exist. Creating a new experiment.\n",
      "2024/05/23 18:26:27 WARNING mlflow.sklearn: Failed to log training dataset information to MLflow Tracking. Reason: 'numpy.ndarray' object has no attribute 'toarray'\n",
      "/home/mlops_zoomcamp_gcp/anaconda3/envs/mlflow-exp-tracking-env/lib/python3.12/site-packages/sklearn/metrics/_regression.py:483: FutureWarning: 'squared' is deprecated in version 1.4 and will be removed in 1.6. To calculate the root mean squared error, use the function'root_mean_squared_error'.\n",
      "  warnings.warn(\n",
      "/home/mlops_zoomcamp_gcp/anaconda3/envs/mlflow-exp-tracking-env/lib/python3.12/site-packages/sklearn/metrics/_regression.py:483: FutureWarning: 'squared' is deprecated in version 1.4 and will be removed in 1.6. To calculate the root mean squared error, use the function'root_mean_squared_error'.\n",
      "  warnings.warn(\n",
      "2024/05/23 18:26:39 WARNING mlflow.sklearn: Failed to log training dataset information to MLflow Tracking. Reason: 'numpy.ndarray' object has no attribute 'toarray'\n",
      "/home/mlops_zoomcamp_gcp/anaconda3/envs/mlflow-exp-tracking-env/lib/python3.12/site-packages/sklearn/metrics/_regression.py:483: FutureWarning: 'squared' is deprecated in version 1.4 and will be removed in 1.6. To calculate the root mean squared error, use the function'root_mean_squared_error'.\n",
      "  warnings.warn(\n",
      "/home/mlops_zoomcamp_gcp/anaconda3/envs/mlflow-exp-tracking-env/lib/python3.12/site-packages/sklearn/metrics/_regression.py:483: FutureWarning: 'squared' is deprecated in version 1.4 and will be removed in 1.6. To calculate the root mean squared error, use the function'root_mean_squared_error'.\n",
      "  warnings.warn(\n",
      "2024/05/23 18:26:58 WARNING mlflow.sklearn: Failed to log training dataset information to MLflow Tracking. Reason: 'numpy.ndarray' object has no attribute 'toarray'\n",
      "/home/mlops_zoomcamp_gcp/anaconda3/envs/mlflow-exp-tracking-env/lib/python3.12/site-packages/sklearn/metrics/_regression.py:483: FutureWarning: 'squared' is deprecated in version 1.4 and will be removed in 1.6. To calculate the root mean squared error, use the function'root_mean_squared_error'.\n",
      "  warnings.warn(\n",
      "/home/mlops_zoomcamp_gcp/anaconda3/envs/mlflow-exp-tracking-env/lib/python3.12/site-packages/sklearn/metrics/_regression.py:483: FutureWarning: 'squared' is deprecated in version 1.4 and will be removed in 1.6. To calculate the root mean squared error, use the function'root_mean_squared_error'.\n",
      "  warnings.warn(\n",
      "2024/05/23 18:27:11 WARNING mlflow.sklearn: Failed to log training dataset information to MLflow Tracking. Reason: 'numpy.ndarray' object has no attribute 'toarray'\n",
      "/home/mlops_zoomcamp_gcp/anaconda3/envs/mlflow-exp-tracking-env/lib/python3.12/site-packages/sklearn/metrics/_regression.py:483: FutureWarning: 'squared' is deprecated in version 1.4 and will be removed in 1.6. To calculate the root mean squared error, use the function'root_mean_squared_error'.\n",
      "  warnings.warn(\n",
      "/home/mlops_zoomcamp_gcp/anaconda3/envs/mlflow-exp-tracking-env/lib/python3.12/site-packages/sklearn/metrics/_regression.py:483: FutureWarning: 'squared' is deprecated in version 1.4 and will be removed in 1.6. To calculate the root mean squared error, use the function'root_mean_squared_error'.\n",
      "  warnings.warn(\n",
      "2024/05/23 18:27:25 WARNING mlflow.sklearn: Failed to log training dataset information to MLflow Tracking. Reason: 'numpy.ndarray' object has no attribute 'toarray'\n",
      "/home/mlops_zoomcamp_gcp/anaconda3/envs/mlflow-exp-tracking-env/lib/python3.12/site-packages/sklearn/metrics/_regression.py:483: FutureWarning: 'squared' is deprecated in version 1.4 and will be removed in 1.6. To calculate the root mean squared error, use the function'root_mean_squared_error'.\n",
      "  warnings.warn(\n",
      "/home/mlops_zoomcamp_gcp/anaconda3/envs/mlflow-exp-tracking-env/lib/python3.12/site-packages/sklearn/metrics/_regression.py:483: FutureWarning: 'squared' is deprecated in version 1.4 and will be removed in 1.6. To calculate the root mean squared error, use the function'root_mean_squared_error'.\n",
      "  warnings.warn(\n",
      "Registered model 'module2_best_model (so far...)' already exists. Creating a new version of this model...\n",
      "2024/05/23 18:27:37 INFO mlflow.store.model_registry.abstract_store: Waiting up to 300 seconds for model version to finish creation. Model name: module2_best_model (so far...), version 3\n",
      "Created version '3' of model 'module2_best_model (so far...)'.\n"
     ]
    }
   ],
   "source": [
    "! python ./register_model.py"
   ]
  },
  {
   "cell_type": "markdown",
   "metadata": {},
   "source": [
    "# In case i delete an experiment, run the following..."
   ]
  },
  {
   "cell_type": "code",
   "execution_count": 35,
   "metadata": {},
   "outputs": [],
   "source": [
    "# %load_ext sql"
   ]
  },
  {
   "cell_type": "code",
   "execution_count": 36,
   "metadata": {},
   "outputs": [],
   "source": [
    "# %sql sqlite:////home/mlops_zoomcamp_gcp/notebooks/mlflow.db"
   ]
  },
  {
   "cell_type": "code",
   "execution_count": 39,
   "metadata": {},
   "outputs": [
    {
     "name": "stdout",
     "output_type": "stream",
     "text": [
      " * sqlite:////home/mlops_zoomcamp_gcp/notebooks/mlflow.db\n",
      "0 rows affected.\n",
      "35 rows affected.\n",
      "35 rows affected.\n",
      "40 rows affected.\n",
      "90 rows affected.\n",
      "5 rows affected.\n",
      "1 rows affected.\n"
     ]
    },
    {
     "data": {
      "text/plain": [
       "[]"
      ]
     },
     "execution_count": 39,
     "metadata": {},
     "output_type": "execute_result"
    }
   ],
   "source": [
    "# %%sql\n",
    "# DELETE FROM experiment_tags WHERE experiment_id in (\n",
    "#     SELECT experiment_id FROM experiments where lifecycle_stage='deleted'\n",
    "#     );\n",
    "# DELETE FROM latest_metrics WHERE run_uuid in (\n",
    "#     SELECT run_uuid FROM runs WHERE experiment_id in (\n",
    "#         SELECT experiment_id FROM experiments where lifecycle_stage='deleted'\n",
    "#     )\n",
    "# );\n",
    "# DELETE FROM metrics WHERE run_uuid in (\n",
    "#     SELECT run_uuid FROM runs WHERE experiment_id in (\n",
    "#         SELECT experiment_id FROM experiments where lifecycle_stage='deleted'\n",
    "#     )\n",
    "# );\n",
    "# DELETE FROM tags WHERE run_uuid in (\n",
    "#     SELECT run_uuid FROM runs WHERE experiment_id in (\n",
    "#         SELECT experiment_id FROM experiments where lifecycle_stage='deleted'\n",
    "#     )\n",
    "# );\n",
    "# DELETE FROM params WHERE run_uuid in (\n",
    "#     SELECT run_uuid FROM runs where experiment_id in (\n",
    "#         SELECT experiment_id FROM experiments where lifecycle_stage='deleted'\n",
    "# ));\n",
    "# DELETE FROM runs WHERE experiment_id in (\n",
    "#     SELECT experiment_id FROM experiments where lifecycle_stage='deleted'\n",
    "# );\n",
    "# DELETE FROM experiments where lifecycle_stage='deleted';"
   ]
  }
 ],
 "metadata": {
  "kernelspec": {
   "display_name": "mlflow-exp-tracking-env",
   "language": "python",
   "name": "python3"
  },
  "language_info": {
   "codemirror_mode": {
    "name": "ipython",
    "version": 3
   },
   "file_extension": ".py",
   "mimetype": "text/x-python",
   "name": "python",
   "nbconvert_exporter": "python",
   "pygments_lexer": "ipython3",
   "version": "3.12.3"
  }
 },
 "nbformat": 4,
 "nbformat_minor": 2
}
